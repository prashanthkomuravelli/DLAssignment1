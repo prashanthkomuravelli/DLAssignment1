{
 "cells": [
  {
   "cell_type": "markdown",
   "metadata": {},
   "source": [
    "# Working With MNIST Dataset"
   ]
  },
  {
   "cell_type": "code",
   "execution_count": 212,
   "metadata": {},
   "outputs": [],
   "source": [
    "import torch\n",
    "import numpy as np\n",
    "import matplotlib.pyplot as plt\n",
    "from scipy.spatial import distance\n",
    "import functools\n",
    "import operator"
   ]
  },
  {
   "cell_type": "code",
   "execution_count": 213,
   "metadata": {},
   "outputs": [],
   "source": [
    "#loading data\n",
    "(x_train, y_train, x_test, y_test)=torch.load('mnist.pt')"
   ]
  },
  {
   "cell_type": "code",
   "execution_count": 214,
   "metadata": {},
   "outputs": [],
   "source": [
    "#making 28*28 dimension image to 1*784 dimension feature vector\n",
    "X_train = []\n",
    "for data_point in x_train:\n",
    "    X_train.append(data_point.view(1,-1)[0])\n",
    "    \n",
    "X_test = []\n",
    "\n",
    "for data_point in x_test:\n",
    "    X_test.append(data_point.view(1,-1)[0])"
   ]
  },
  {
   "cell_type": "code",
   "execution_count": 215,
   "metadata": {},
   "outputs": [
    {
     "name": "stdout",
     "output_type": "stream",
     "text": [
      "784\n"
     ]
    }
   ],
   "source": [
    "print(len(X_train[0]))"
   ]
  },
  {
   "cell_type": "code",
   "execution_count": 216,
   "metadata": {},
   "outputs": [],
   "source": [
    "#finding euclidean distance between 2 tensors\n",
    "\n",
    "def euclideanDistance(instance1,instance2):\n",
    "    return distance.euclidean(instance1.numpy(),instance2.numpy())"
   ]
  },
  {
   "cell_type": "code",
   "execution_count": 217,
   "metadata": {},
   "outputs": [],
   "source": [
    "# comparator which will be  useful for sorting neighbors \n",
    "def mycmp(i1,i2):\n",
    "    if i1[1]<i2[1]:\n",
    "        return -1\n",
    "    elif i1[1]>i2[1]:\n",
    "        return 1\n",
    "    else:\n",
    "        if i1[3]<i2[3]:\n",
    "            return -1\n",
    "        else:\n",
    "            return 1\n",
    "        "
   ]
  },
  {
   "cell_type": "code",
   "execution_count": 218,
   "metadata": {},
   "outputs": [],
   "source": [
    "\n",
    "# finding k nearest neighbors in the form of tuples eaach tuple is of the form (data point,distance, label,index)\n",
    "\n",
    "def neighbors(training_set,test_instance,k,training_labels):\n",
    "    distances = []\n",
    "    \n",
    "    for i in range(len(training_set)):\n",
    "        dist = euclideanDistance(training_set[i],test_instance)\n",
    "        distances.append((training_set[i],dist,training_labels[i],i))\n",
    "\n",
    "    distances = sorted(distances,key=functools.cmp_to_key(mycmp))\n",
    "    neighbors_list = []\n",
    "    for i in range(k):\n",
    "        neighbors_list.append(distances[i])\n",
    "        \n",
    "    return neighbors_list\n",
    "    "
   ]
  },
  {
   "cell_type": "code",
   "execution_count": 219,
   "metadata": {},
   "outputs": [],
   "source": [
    "# finding label for test instance according majority votes of neighbors\n",
    "\n",
    "def response(neighbors_list):\n",
    "    classVotes = {}\n",
    "    for i in range(len(neighbors_list)):\n",
    "        resp = neighbors_list[i][2]\n",
    "        if resp.item() in classVotes:\n",
    "            classVotes[resp.item()]+=1\n",
    "        else:\n",
    "            classVotes[resp.item()] = 1\n",
    "    \n",
    "    sortedVotes = sorted(classVotes.items(),key=operator.itemgetter(1),reverse=True)\n",
    "    return sortedVotes[0][0]\n",
    "    "
   ]
  },
  {
   "cell_type": "code",
   "execution_count": 220,
   "metadata": {},
   "outputs": [],
   "source": [
    "def mycmp2(v1,v2):\n",
    "    if v1[0]<v2[0]:\n",
    "        return -1\n",
    "    elif v1[0]>v2[0]:\n",
    "        return 1\n",
    "    else:\n",
    "        if v1[1]<v2[1]:\n",
    "            return 1\n",
    "        else:\n",
    "            return -1\n",
    "        \n",
    "    "
   ]
  },
  {
   "cell_type": "code",
   "execution_count": 221,
   "metadata": {},
   "outputs": [],
   "source": [
    "# finding label for test instance according majority votes of neighbors\n",
    "import operator\n",
    "def response2(neighbors_list):\n",
    "    classVotes = {}\n",
    "    for i in range(len(neighbors_list)):\n",
    "        resp = neighbors_list[i][2]\n",
    "        if resp.item() in classVotes:\n",
    "            classVotes[resp.item()][0]+=1\n",
    "            if classVotes[resp.item()][1]>neighbors_list[i][3]:\n",
    "                classVotes[resp.item()][1]=neighbors_list[i][3]\n",
    "            \n",
    "        else:\n",
    "            classVotes[resp.item()] = (1,neighbors_list[i][3])\n",
    "    \n",
    "    sortedVotes = sorted(classVotes.items(),key=functools.cmp_to_key(mycmp2),reverse=True)\n",
    "    return sortedVotes[0][0]"
   ]
  },
  {
   "cell_type": "code",
   "execution_count": 222,
   "metadata": {},
   "outputs": [
    {
     "name": "stdout",
     "output_type": "stream",
     "text": [
      "Enter the Value of K:3\n"
     ]
    }
   ],
   "source": [
    "k = input(\"Enter the Value of K:\")"
   ]
  },
  {
   "cell_type": "code",
   "execution_count": 223,
   "metadata": {},
   "outputs": [],
   "source": [
    "\n",
    "#predicting labels for each test instance\n",
    "predictions = []\n",
    "for i in range(len(X_test)):\n",
    "    neighbors_list = neighbors(X_train,X_test[i],int(k),y_train)\n",
    "    result = response(neighbors_list)\n",
    "    predictions.append(result)"
   ]
  },
  {
   "cell_type": "code",
   "execution_count": 224,
   "metadata": {},
   "outputs": [
    {
     "name": "stdout",
     "output_type": "stream",
     "text": [
      "[7, 1, 1, 1, 4, 1, 8, 1, 1, 9, 1, 1, 1, 1, 1, 1, 9, 7, 1, 4, 1, 1, 1, 1, 1, 1, 7, 4, 0, 1, 1, 1, 1, 8, 1, 1, 7, 1, 1, 1, 1, 7, 1, 1, 1, 1, 1, 1, 1, 4, 6, 1, 1, 5, 1, 1, 8, 1, 9, 1, 1, 1, 1, 1, 7, 1, 1, 4, 1, 1, 7, 1, 1, 1, 1, 1, 1, 7, 1, 7, 9, 1, 1, 9, 1, 1, 7, 1, 1, 1, 1, 1, 9, 1, 1, 1, 1, 1, 6, 1]\n"
     ]
    }
   ],
   "source": [
    "#list of predictions\n",
    "print(predictions)"
   ]
  },
  {
   "cell_type": "code",
   "execution_count": 225,
   "metadata": {},
   "outputs": [
    {
     "name": "stdout",
     "output_type": "stream",
     "text": [
      "[7, 2, 1, 0, 4, 1, 4, 9, 5, 9, 0, 6, 9, 0, 1, 5, 9, 7, 3, 4, 9, 6, 6, 5, 4, 0, 7, 4, 0, 1, 3, 1, 3, 4, 7, 2, 7, 1, 2, 1, 1, 7, 4, 2, 3, 5, 1, 2, 4, 4, 6, 3, 5, 5, 6, 0, 4, 1, 9, 5, 7, 8, 9, 3, 7, 4, 6, 4, 3, 0, 7, 0, 2, 9, 1, 7, 3, 2, 9, 7, 7, 6, 2, 7, 8, 4, 7, 3, 6, 1, 3, 6, 9, 3, 1, 4, 1, 7, 6, 9]\n"
     ]
    }
   ],
   "source": [
    "#list of original labels\n",
    "print(list(y_test.numpy()))"
   ]
  },
  {
   "cell_type": "code",
   "execution_count": 226,
   "metadata": {},
   "outputs": [
    {
     "name": "stdout",
     "output_type": "stream",
     "text": [
      "36.0\n"
     ]
    }
   ],
   "source": [
    "#finding accuracy of predictions based on original labels\n",
    "from sklearn.metrics import accuracy_score\n",
    "print(accuracy_score(list(y_test.numpy()),predictions)*100)"
   ]
  },
  {
   "cell_type": "markdown",
   "metadata": {},
   "source": [
    "## Plotting Confusion Matrix"
   ]
  },
  {
   "cell_type": "code",
   "execution_count": 227,
   "metadata": {},
   "outputs": [
    {
     "name": "stdout",
     "output_type": "stream",
     "text": [
      "Automatically created module for IPython interactive environment\n",
      "Confusion matrix, without normalization\n",
      "[[ 1  7  0  0  0  0  0  0  0  0]\n",
      " [ 0 14  0  0  0  0  0  0  0  0]\n",
      " [ 0  7  0  0  0  0  0  1  0  0]\n",
      " [ 0 11  0  0  0  0  0  0  0  0]\n",
      " [ 0  6  0  0  5  0  0  0  3  0]\n",
      " [ 0  6  0  0  0  1  0  0  0  0]\n",
      " [ 0  8  0  0  0  0  2  0  0  0]\n",
      " [ 0  4  0  0  0  0  0  9  0  2]\n",
      " [ 0  2  0  0  0  0  0  0  0  0]\n",
      " [ 0  7  0  0  0  0  0  0  0  4]]\n"
     ]
    },
    {
     "data": {
      "image/png": "[encoded data removed]",
      "text/plain": [
       "<Figure size 432x288 with 2 Axes>"
      ]
     },
     "metadata": {
      "needs_background": "light"
     },
     "output_type": "display_data"
    }
   ],
   "source": [
    "print(__doc__)\n",
    "\n",
    "import numpy as np\n",
    "import matplotlib.pyplot as plt\n",
    "\n",
    "from sklearn.metrics import confusion_matrix\n",
    "from sklearn.utils.multiclass import unique_labels\n",
    "\n",
    "class_names = ['0','1','2','3','4','5','6','7','8','9']\n",
    "\n",
    "def plot_confusion_matrix(y_true, y_pred, classes,\n",
    "                          normalize=False,\n",
    "                          title=None,\n",
    "                          cmap=plt.cm.Blues):\n",
    "    \"\"\"\n",
    "    This function prints and plots the confusion matrix.\n",
    "    Normalization can be applied by setting `normalize=True`.\n",
    "    \"\"\"\n",
    "    if not title:\n",
    "        if normalize:\n",
    "            title = 'Normalized confusion matrix'\n",
    "        else:\n",
    "            title = 'Confusion matrix, without normalization'\n",
    "\n",
    "    # Compute confusion matrix\n",
    "    cm = confusion_matrix(y_true, y_pred)\n",
    "    # Only use the labels that appear in the data\n",
    "    classes = [classes[i] for i in unique_labels(y_true, y_pred)]\n",
    "    if normalize:\n",
    "        cm = cm.astype('float') / cm.sum(axis=1)[:, np.newaxis]\n",
    "        print(\"Normalized confusion matrix\")\n",
    "    else:\n",
    "        print('Confusion matrix, without normalization')\n",
    "\n",
    "    print(cm)\n",
    "\n",
    "    fig, ax = plt.subplots()\n",
    "    im = ax.imshow(cm, interpolation='nearest', cmap=cmap)\n",
    "    ax.figure.colorbar(im, ax=ax)\n",
    "    # We want to show all ticks...\n",
    "    ax.set(xticks=np.arange(cm.shape[1]),\n",
    "           yticks=np.arange(cm.shape[0]),\n",
    "           # ... and label them with the respective list entries\n",
    "           xticklabels=classes, yticklabels=classes,\n",
    "           title=title,\n",
    "           ylabel='True label',\n",
    "           xlabel='Predicted label')\n",
    "\n",
    "    # Rotate the tick labels and set their alignment.\n",
    "    plt.setp(ax.get_xticklabels(), rotation=45, ha=\"right\",\n",
    "             rotation_mode=\"anchor\")\n",
    "\n",
    "    # Loop over data dimensions and create text annotations.\n",
    "    fmt = '.2f' if normalize else 'd'\n",
    "    thresh = cm.max() / 2.\n",
    "    for i in range(cm.shape[0]):\n",
    "        for j in range(cm.shape[1]):\n",
    "            ax.text(j, i, format(cm[i, j], fmt),\n",
    "                    ha=\"center\", va=\"center\",\n",
    "                    color=\"white\" if cm[i, j] > thresh else \"black\")\n",
    "    fig.tight_layout()\n",
    "    return ax\n",
    "\n",
    "  \n",
    "np.set_printoptions(precision=2)\n",
    "\n",
    "# y_pred = clf.predict(X_test)\n",
    "\n",
    "#print (class_names, unique_labels(y_pred,y_test), class_names[])\n",
    "\n",
    "# Plot non-normalized confusion matrix\n",
    "plot_confusion_matrix(y_test, predictions, classes=class_names, title='Confusion matrix')\n",
    "\n",
    "plt.show()"
   ]
  },
  {
   "cell_type": "code",
   "execution_count": null,
   "metadata": {},
   "outputs": [],
   "source": []
  },
  {
   "cell_type": "markdown",
   "metadata": {},
   "source": [
    "# Working with CIFAR-10 Dataset"
   ]
  },
  {
   "cell_type": "code",
   "execution_count": 228,
   "metadata": {},
   "outputs": [],
   "source": [
    "#loading cifar 10 dataset\n",
    "(x_train, y_train, x_test, y_test)=torch.load('cifar10.pt')"
   ]
  },
  {
   "cell_type": "code",
   "execution_count": 229,
   "metadata": {},
   "outputs": [
    {
     "data": {
      "text/plain": [
       "torch.Size([32, 32, 3])"
      ]
     },
     "execution_count": 229,
     "metadata": {},
     "output_type": "execute_result"
    }
   ],
   "source": [
    "x_train[0].size()"
   ]
  },
  {
   "cell_type": "code",
   "execution_count": 230,
   "metadata": {},
   "outputs": [],
   "source": [
    "#making 32*32*3 image to 1*3072 dimension feature vector\n",
    "X_train = []\n",
    "for i in x_train:\n",
    "    X_train.append(i.view(1,-1)[0])\n",
    "X_test = []\n",
    "\n",
    "for i in x_test:\n",
    "    X_test.append(i.view(1,-1)[0])"
   ]
  },
  {
   "cell_type": "code",
   "execution_count": 231,
   "metadata": {},
   "outputs": [
    {
     "data": {
      "text/plain": [
       "tensor([158, 112,  49,  ...,  21,  67, 110], dtype=torch.uint8)"
      ]
     },
     "execution_count": 231,
     "metadata": {},
     "output_type": "execute_result"
    }
   ],
   "source": [
    "X_test[0]"
   ]
  },
  {
   "cell_type": "code",
   "execution_count": 232,
   "metadata": {},
   "outputs": [],
   "source": [
    "#converting 3072 dimension vector to 765 dimension tensor by frequencies of hisograms of R,G,B planes\n",
    "train_data = []\n",
    "for i in X_train:\n",
    "    lis = []\n",
    "    lis = lis +  list(np.histogram(i[0:1024],[j for j in range(256)])[0])\n",
    "    lis = lis + list(np.histogram(i[1024:2048],[j for j in range(256)])[0])\n",
    "    lis = lis + list(np.histogram(i[2048:3072],[j for j in range(256)])[0])\n",
    "    train_data.append(torch.tensor(lis))\n",
    "    \n",
    "test_data = []\n",
    "\n",
    "for i in X_test:\n",
    "    lis = []\n",
    "    lis = lis +  list(np.histogram(i[0:1024],[j for j in range(256)])[0])\n",
    "    lis = lis + list(np.histogram(i[1024:2048],[j for j in range(256)])[0])\n",
    "    lis = lis + list(np.histogram(i[2048:3072],[j for j in range(256)])[0])\n",
    "    test_data.append(torch.tensor(lis))"
   ]
  },
  {
   "cell_type": "code",
   "execution_count": 233,
   "metadata": {},
   "outputs": [
    {
     "name": "stdout",
     "output_type": "stream",
     "text": [
      "1000\n",
      "100\n",
      "765\n",
      "765\n"
     ]
    }
   ],
   "source": [
    "print(len(train_data))\n",
    "print(len(test_data))\n",
    "print(len(train_data[0]))\n",
    "print(len(test_data[0]))"
   ]
  },
  {
   "cell_type": "code",
   "execution_count": 234,
   "metadata": {},
   "outputs": [],
   "source": [
    "train_labels = list(y_train.numpy().flatten())\n",
    "test_labels = list(y_test.numpy().flatten())"
   ]
  },
  {
   "cell_type": "code",
   "execution_count": 235,
   "metadata": {},
   "outputs": [
    {
     "name": "stdout",
     "output_type": "stream",
     "text": [
      "enter the value of k3\n"
     ]
    }
   ],
   "source": [
    "# taking value of k from user\n",
    "k = input(\"enter the value of k\")"
   ]
  },
  {
   "cell_type": "code",
   "execution_count": 236,
   "metadata": {},
   "outputs": [],
   "source": [
    "#predicting labels for test data\n",
    "predictions = []\n",
    "for i in range(len(test_data)):\n",
    "    neighbors_list = neighbors(train_data,test_data[i],int(k),y_train)\n",
    "    result = response(neighbors_list)\n",
    "    predictions.append(result)"
   ]
  },
  {
   "cell_type": "code",
   "execution_count": 237,
   "metadata": {},
   "outputs": [
    {
     "name": "stdout",
     "output_type": "stream",
     "text": [
      "[6, 8, 0, 1, 6, 5, 2, 9, 2, 3, 8, 9, 9, 1, 2, 2, 8, 1, 9, 6, 1, 0, 3, 1, 2, 1, 9, 9, 9, 9, 5, 6, 0, 8, 3, 1, 6, 9, 3, 7, 0, 3, 1, 4, 7, 9, 1, 2, 4, 2, 1, 1, 6, 3, 9, 8, 8, 6, 2, 3, 8, 6, 4, 9, 6, 6, 0, 2, 9, 9, 2, 7, 8, 8, 0, 2, 3, 9, 6, 9, 0, 1, 1, 0, 0, 7, 9, 0, 0, 2, 2, 6, 0, 9, 2, 3, 1, 8, 0, 9]\n",
      "[3, 8, 8, 0, 6, 6, 1, 6, 3, 1, 0, 9, 5, 7, 9, 8, 5, 7, 8, 6, 7, 0, 4, 9, 5, 2, 4, 0, 9, 6, 6, 5, 4, 5, 9, 2, 4, 1, 9, 5, 4, 6, 5, 6, 0, 9, 3, 9, 7, 6, 9, 8, 0, 3, 8, 8, 7, 7, 4, 6, 7, 3, 6, 3, 6, 2, 1, 2, 3, 7, 2, 6, 8, 8, 0, 2, 9, 3, 3, 8, 8, 1, 1, 7, 2, 5, 2, 7, 8, 9, 0, 3, 8, 6, 4, 6, 6, 0, 0, 7]\n"
     ]
    }
   ],
   "source": [
    "print(predictions)\n",
    "print(test_labels)"
   ]
  },
  {
   "cell_type": "code",
   "execution_count": 238,
   "metadata": {},
   "outputs": [
    {
     "name": "stdout",
     "output_type": "stream",
     "text": [
      "19.0\n"
     ]
    }
   ],
   "source": [
    "#finding accuracy of predictions\n",
    "print(accuracy_score(test_labels,predictions)*100)"
   ]
  },
  {
   "cell_type": "code",
   "execution_count": 239,
   "metadata": {},
   "outputs": [
    {
     "name": "stdout",
     "output_type": "stream",
     "text": [
      "Confusion matrix, without normalization\n",
      "[[3 1 1 0 0 0 1 1 2 1]\n",
      " [1 2 1 1 0 0 0 0 0 1]\n",
      " [1 2 3 0 0 0 1 0 0 1]\n",
      " [0 1 1 1 0 0 4 0 0 3]\n",
      " [2 0 2 1 0 0 1 0 0 1]\n",
      " [0 1 1 0 0 0 1 2 2 1]\n",
      " [0 1 1 3 2 2 3 1 0 3]\n",
      " [2 3 0 0 1 0 1 0 2 2]\n",
      " [4 1 1 0 0 0 0 0 4 3]\n",
      " [0 2 3 3 0 0 0 0 0 3]]\n"
     ]
    },
    {
     "data": {
      "image/png": "[encoded data removed]",
      "text/plain": [
       "<Figure size 432x288 with 2 Axes>"
      ]
     },
     "metadata": {
      "needs_background": "light"
     },
     "output_type": "display_data"
    }
   ],
   "source": [
    "plot_confusion_matrix(y_test, predictions, classes=class_names, title='Confusion matrix')\n",
    "\n",
    "plt.show()"
   ]
  }
 ],
 "metadata": {
  "kernelspec": {
   "display_name": "Python 3",
   "language": "python",
   "name": "python3"
  },
  "language_info": {
   "codemirror_mode": {
    "name": "ipython",
    "version": 3
   },
   "file_extension": ".py",
   "mimetype": "text/x-python",
   "name": "python",
   "nbconvert_exporter": "python",
   "pygments_lexer": "ipython3",
   "version": "3.5.6"
  }
 },
 "nbformat": 4,
 "nbformat_minor": 2
}
